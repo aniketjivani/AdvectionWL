{
 "cells": [
  {
   "cell_type": "markdown",
   "id": "02d2911d",
   "metadata": {},
   "source": [
    "Define initial condition (load from data, 1 or 2 sims), define grid. \n",
    "Boundary conditions? Periodic in theta, what about inflow and outflow?"
   ]
  },
  {
   "cell_type": "code",
   "execution_count": 1,
   "id": "f4f84037",
   "metadata": {},
   "outputs": [],
   "source": [
    "from clawpack import riemann\n",
    "\n",
    "import matplotlib.pyplot as plt\n",
    "\n",
    "from clawpack import pyclaw\n",
    "from clawpack.pyclaw.examples.advection_2d_annulus.mapc2p import mapc2p\n",
    "\n",
    "import numpy as np\n",
    "from clawpack.visclaw import colormaps\n",
    "\n",
    "import re"
   ]
  },
  {
   "cell_type": "code",
   "execution_count": 2,
   "id": "eda03112",
   "metadata": {},
   "outputs": [],
   "source": [
    "%matplotlib inline\n",
    "%load_ext autoreload\n",
    "%autoreload 2"
   ]
  },
  {
   "cell_type": "code",
   "execution_count": null,
   "id": "1076b3ff",
   "metadata": {},
   "outputs": [],
   "source": [
    "r_lower = 3.903302085636277\n",
    "r_upper = 23.465031329617336\n",
    "m_r = 126\n",
    "\n",
    "theta_lower = 0.0\n",
    "theta_upper = np.pi*2.0\n",
    "m_theta = 512"
   ]
  },
  {
   "cell_type": "code",
   "execution_count": 3,
   "id": "603b6b9a",
   "metadata": {},
   "outputs": [],
   "source": [
    "def mapc2p_annulus(xc, yc):\n",
    "    \"\"\"\n",
    "    Specifies the mapping to curvilinear coordinates.\n",
    "\n",
    "    Inputs: c_centers = Computational cell centers\n",
    "                 [array ([Xc1, Xc2, ...]), array([Yc1, Yc2, ...])]\n",
    "\n",
    "    Output: p_centers = Physical cell centers\n",
    "                 [array ([Xp1, Xp2, ...]), array([Yp1, Yp2, ...])]\n",
    "    \"\"\"  \n",
    "    p_centers = []\n",
    "\n",
    "    # Polar coordinates (first coordinate = radius,  second coordinate = theta)\n",
    "    p_centers.append(xc[:]*np.cos(yc[:]))\n",
    "    p_centers.append(xc[:]*np.sin(yc[:]))\n",
    "    \n",
    "    return p_centers"
   ]
  },
  {
   "cell_type": "code",
   "execution_count": 4,
   "id": "3d75025f",
   "metadata": {},
   "outputs": [],
   "source": [
    "raw_data = np.load(\"/home/ajivani/WLROM_new/WhiteLight/validation_data/CR2161_validation_PolarTensor.npy\")\n",
    "raw_data.shape\n",
    "\n",
    "sample_rd = raw_data[:126, :, 25, 20]"
   ]
  },
  {
   "cell_type": "code",
   "execution_count": 12,
   "id": "b09030ef",
   "metadata": {},
   "outputs": [
    {
     "data": {
      "text/plain": [
       "(126, 512)"
      ]
     },
     "execution_count": 12,
     "metadata": {},
     "output_type": "execute_result"
    }
   ],
   "source": [
    "sample_rd.shape"
   ]
  },
  {
   "cell_type": "code",
   "execution_count": null,
   "id": "00864025",
   "metadata": {},
   "outputs": [],
   "source": [
    "def setup(use_petsc=False,outdir='./_output',solver_type='classic'):\n",
    "    from clawpack import riemann\n",
    "\n",
    "    if use_petsc:\n",
    "        import clawpack.petclaw as pyclaw\n",
    "    else:\n",
    "        from clawpack import pyclaw\n",
    "\n",
    "    if solver_type == 'classic':\n",
    "        solver = pyclaw.ClawSolver2D(riemann.vc_advection_2D)\n",
    "        solver.dimensional_split = False\n",
    "        solver.transverse_waves = 2\n",
    "        solver.order = 2\n",
    "    elif solver_type == 'sharpclaw':\n",
    "        solver = pyclaw.SharpClawSolver2D(riemann.vc_advection_2D)\n",
    "\n",
    "    solver.bc_lower[0] = pyclaw.BC.extrap\n",
    "    solver.bc_upper[0] = pyclaw.BC.extrap\n",
    "    solver.bc_lower[1] = pyclaw.BC.periodic\n",
    "    solver.bc_upper[1] = pyclaw.BC.periodic\n",
    "\n",
    "    solver.aux_bc_lower[0] = pyclaw.BC.custom\n",
    "    solver.aux_bc_upper[0] = pyclaw.BC.custom\n",
    "    solver.user_aux_bc_lower = ghost_velocities_lower\n",
    "    solver.user_aux_bc_upper = ghost_velocities_upper\n",
    "    solver.aux_bc_lower[1] = pyclaw.BC.periodic\n",
    "    solver.aux_bc_upper[1] = pyclaw.BC.periodic\n",
    "\n",
    "    solver.dt_initial = 0.1\n",
    "    solver.cfl_max = 0.5\n",
    "    solver.cfl_desired = 0.4\n",
    "\n",
    "    solver.limiters = pyclaw.limiters.tvd.vanleer\n",
    "\n",
    "#     r_lower = 0.2\n",
    "#     r_upper = 1.0\n",
    "#     m_r = 40\n",
    "\n",
    "#     theta_lower = 0.0\n",
    "#     theta_upper = np.pi*2.0\n",
    "#     m_theta = 120\n",
    "\n",
    "    r_lower = 3.903302085636277\n",
    "    r_upper = 23.465031329617336\n",
    "    m_r = 126\n",
    "\n",
    "    theta_lower = 0.0\n",
    "    theta_upper = np.pi*2.0\n",
    "    m_theta = 512\n",
    "\n",
    "    r     = pyclaw.Dimension(r_lower,r_upper,m_r,name='r')\n",
    "    theta = pyclaw.Dimension(theta_lower,theta_upper,m_theta,name='theta')\n",
    "    domain = pyclaw.Domain([r,theta])\n",
    "    domain.grid.mapc2p = mapc2p_annulus\n",
    "    domain.grid.num_ghost = solver.num_ghost\n",
    "\n",
    "    num_eqn = 1\n",
    "    state = pyclaw.State(domain,num_eqn)\n",
    "\n",
    "    qinit(state)\n",
    "\n",
    "    dx, dy = state.grid.delta\n",
    "    p_corners = state.grid.p_nodes\n",
    "    state.aux = edge_velocities_and_area(p_corners[0],p_corners[1],dx,dy)\n",
    "    state.index_capa = 2 # aux[2,:,:] holds the capacity function\n",
    "\n",
    "    claw = pyclaw.Controller()\n",
    "    claw.tfinal = 1.0\n",
    "    claw.solution = pyclaw.Solution(state,domain)\n",
    "    claw.solver = solver\n",
    "    claw.outdir = outdir\n",
    "    claw.setplot = setplot\n",
    "    claw.keep_copy = True\n",
    "\n",
    "    return claw"
   ]
  },
  {
   "cell_type": "code",
   "execution_count": 9,
   "id": "aa2822da",
   "metadata": {},
   "outputs": [],
   "source": [
    "def qinit(state):\n",
    "    \"\"\"\n",
    "    Initialize with two Gaussian pulses.\n",
    "    \"\"\"\n",
    "#     # First gaussian pulse\n",
    "#     A1     = 1.    # Amplitude\n",
    "#     beta1  = 40.   # Decay factor\n",
    "#     r1     = -0.5  # r-coordinate of the center\n",
    "#     theta1 = 0.    # theta-coordinate of the center\n",
    "\n",
    "#     # Second gaussian pulse\n",
    "#     A2     = -1.   # Amplitude\n",
    "#     beta2  = 40.   # Decay factor\n",
    "#     r2     = 0.5   # r-coordinate of the centers\n",
    "#     theta2 = 0.    # theta-coordinate of the centers\n",
    "\n",
    "    R, Theta = state.grid.p_centers\n",
    "    state.q[0, :, :] = sample_rd\n",
    "#     state.q[0,:,:] = A1*np.exp(-beta1*(np.square(R-r1) + np.square(Theta-theta1)))\\\n",
    "#                    + A2*np.exp(-beta2*(np.square(R-r2) + np.square(Theta-theta2)))"
   ]
  },
  {
   "cell_type": "code",
   "execution_count": 10,
   "id": "86e8cb0b",
   "metadata": {},
   "outputs": [],
   "source": [
    "from clawpack import riemann\n",
    "\n",
    "use_petsc = False\n",
    "\n",
    "if use_petsc:\n",
    "    import clawpack.petclaw as pyclaw\n",
    "else:\n",
    "    from clawpack import pyclaw\n",
    "\n",
    "solver_type = 'classic'\n",
    "    \n",
    "if solver_type == 'classic':\n",
    "    solver = pyclaw.ClawSolver2D(riemann.vc_advection_2D)\n",
    "    solver.dimensional_split = False\n",
    "    solver.transverse_waves = 2\n",
    "    solver.order = 2\n",
    "elif solver_type == 'sharpclaw':\n",
    "    solver = pyclaw.SharpClawSolver2D(riemann.vc_advection_2D)\n",
    "\n",
    "\n",
    "r_lower = 3.903302085636277\n",
    "r_upper = 23.465031329617336\n",
    "m_r = 126\n",
    "\n",
    "theta_lower = 0.0\n",
    "theta_upper = np.pi*2.0\n",
    "m_theta = 512\n",
    "\n",
    "r     = pyclaw.Dimension(r_lower,r_upper,m_r,name='r')\n",
    "theta = pyclaw.Dimension(theta_lower,theta_upper,m_theta,name='theta')\n",
    "domain = pyclaw.Domain([r,theta])\n",
    "domain.grid.mapc2p = mapc2p_annulus\n",
    "domain.grid.num_ghost = solver.num_ghost\n",
    "\n",
    "num_eqn = 1\n",
    "state = pyclaw.State(domain,num_eqn)\n",
    "\n",
    "qinit(state)"
   ]
  },
  {
   "cell_type": "code",
   "execution_count": 11,
   "id": "82dd1e47",
   "metadata": {},
   "outputs": [
    {
     "data": {
      "text/plain": [
       "(126, 512)"
      ]
     },
     "execution_count": 11,
     "metadata": {},
     "output_type": "execute_result"
    }
   ],
   "source": [
    "# state.q[0, :, :].shape"
   ]
  },
  {
   "cell_type": "code",
   "execution_count": null,
   "id": "01b31d27",
   "metadata": {},
   "outputs": [],
   "source": []
  }
 ],
 "metadata": {
  "kernelspec": {
   "display_name": "Python 3 (ipykernel)",
   "language": "python",
   "name": "python3"
  },
  "language_info": {
   "codemirror_mode": {
    "name": "ipython",
    "version": 3
   },
   "file_extension": ".py",
   "mimetype": "text/x-python",
   "name": "python",
   "nbconvert_exporter": "python",
   "pygments_lexer": "ipython3",
   "version": "3.10.14"
  }
 },
 "nbformat": 4,
 "nbformat_minor": 5
}
