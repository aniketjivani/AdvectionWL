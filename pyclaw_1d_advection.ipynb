{
 "cells": [
  {
   "cell_type": "markdown",
   "id": "f8b2acbf",
   "metadata": {},
   "source": [
    "https://www.youtube.com/watch?v=tr348El2A4Q"
   ]
  },
  {
   "cell_type": "code",
   "execution_count": 1,
   "id": "dfcbf1d0",
   "metadata": {},
   "outputs": [],
   "source": [
    "from clawpack import pyclaw\n",
    "from clawpack import riemann\n",
    "import numpy as np"
   ]
  },
  {
   "cell_type": "code",
   "execution_count": 3,
   "id": "6197f791",
   "metadata": {},
   "outputs": [],
   "source": [
    "# solver = pyclaw.ClawSolver1D(riemann.advection_1D)\n",
    "# solver.bc_lower[0] = pyclaw.BC.periodic\n",
    "# solver.bc_upper[0] = pyclaw.BC.periodic\n",
    "# solver.num_eqn"
   ]
  },
  {
   "cell_type": "code",
   "execution_count": 9,
   "id": "a55f7a6b",
   "metadata": {},
   "outputs": [],
   "source": [
    "def main():\n",
    "    # solver\n",
    "    solver = pyclaw.ClawSolver1D(riemann.advection_1D)\n",
    "    solver.bc_lower[0] = pyclaw.BC.periodic\n",
    "    solver.bc_upper[0] = pyclaw.BC.periodic\n",
    "\n",
    "    # mesh\n",
    "    x_dimension = pyclaw.Dimension(0.0, 1.0, 100)\n",
    "    domain = pyclaw.Domain(x_dimension)\n",
    "\n",
    "    # instantiate solution field on mesh\n",
    "    solution = pyclaw.Solution(solver.num_eqn, domain,) # 1 eqn?!\n",
    "    \n",
    "    # initial state (define on cell-centers)\n",
    "    state = solution.state\n",
    "    cell_center_coordinates = state.grid.p_centers[0]\n",
    "    \n",
    "    state.q[0, :] = np.where((cell_center_coordinates > 0.2) & (cell_center_coordinates < 0.4), 1.0, 0.0)\n",
    "    \n",
    "    # problem specific parameters\n",
    "    state.problem_data[\"u\"] = 1.0\n",
    "    \n",
    "    # Controller - takes care of time integration\n",
    "    controller = pyclaw.Controller()\n",
    "    controller.solution = solution\n",
    "    controller.solver = solver\n",
    "    controller.tfinal = 1.0\n",
    "    \n",
    "    controller.run()\n",
    "    \n",
    "    pyclaw.plot.html_plot()\n",
    "#     pyclaw.plot.interactive_plot()"
   ]
  },
  {
   "cell_type": "code",
   "execution_count": 10,
   "id": "76230d4a",
   "metadata": {},
   "outputs": [
    {
     "name": "stdout",
     "output_type": "stream",
     "text": [
      "2024-05-23 00:31:31,167 INFO CLAW: Solution 0 computed for time t=0.000000\n",
      "2024-05-23 00:31:31,170 INFO CLAW: Solution 1 computed for time t=0.100000\n",
      "2024-05-23 00:31:31,172 INFO CLAW: Solution 2 computed for time t=0.200000\n",
      "2024-05-23 00:31:31,174 INFO CLAW: Solution 3 computed for time t=0.300000\n",
      "2024-05-23 00:31:31,176 INFO CLAW: Solution 4 computed for time t=0.400000\n",
      "2024-05-23 00:31:31,179 INFO CLAW: Solution 5 computed for time t=0.500000\n",
      "2024-05-23 00:31:31,181 INFO CLAW: Solution 6 computed for time t=0.600000\n",
      "2024-05-23 00:31:31,183 INFO CLAW: Solution 7 computed for time t=0.700000\n",
      "2024-05-23 00:31:31,185 INFO CLAW: Solution 8 computed for time t=0.800000\n",
      "2024-05-23 00:31:31,187 INFO CLAW: Solution 9 computed for time t=0.900000\n",
      "2024-05-23 00:31:31,189 INFO CLAW: Solution 10 computed for time t=1.000000\n"
     ]
    },
    {
     "name": "stderr",
     "output_type": "stream",
     "text": [
      "/home/ajivani/clawpack_src/clawpack/visclaw/src/python/visclaw/plotpages.py:605: SyntaxWarning: \"is\" with a literal. Did you mean \"==\"?\n",
      "  if plotdata.format is 'forestclaw':\n",
      "/home/ajivani/clawpack_src/clawpack/visclaw/src/python/visclaw/plotpages.py:1809: SyntaxWarning: \"is\" with a literal. Did you mean \"==\"?\n",
      "  if prefix is 'fort':\n"
     ]
    },
    {
     "name": "stdout",
     "output_type": "stream",
     "text": [
      "Input number of spatial dimensions for this data (default=1): 1\n",
      "Executed setplot successfully\n",
      "Will plot 11 frames numbered: [0, 1, 2, 3, 4, 5, 6, 7, 8, 9, 10]\n",
      "Will make 1 figure(s) for each frame, numbered:  [1]\n",
      "\n",
      "-----------------------------------\n",
      "\n",
      "\n",
      "Creating html pages for figures...\n",
      "\n",
      "Directory '/home/ajivani/AdvectionWL/_plots' \n",
      "    already exists, files may be overwritten \n",
      "Now making png files for all figures...\n",
      "    Reading  Frame 0 at t = 0  from outdir = /home/ajivani/AdvectionWL/_output\n",
      "Frame 0 at time t = 0.0\n",
      "    Reading  Frame 1 at t = 0.1  from outdir = /home/ajivani/AdvectionWL/_output\n",
      "Frame 1 at time t = 0.1\n",
      "    Reading  Frame 2 at t = 0.2  from outdir = /home/ajivani/AdvectionWL/_output\n",
      "Frame 2 at time t = 0.2\n",
      "    Reading  Frame 3 at t = 0.3  from outdir = /home/ajivani/AdvectionWL/_output\n",
      "Frame 3 at time t = 0.3\n",
      "    Reading  Frame 4 at t = 0.4  from outdir = /home/ajivani/AdvectionWL/_output\n",
      "Frame 4 at time t = 0.4\n",
      "    Reading  Frame 5 at t = 0.5  from outdir = /home/ajivani/AdvectionWL/_output\n",
      "Frame 5 at time t = 0.5\n",
      "    Reading  Frame 6 at t = 0.6  from outdir = /home/ajivani/AdvectionWL/_output\n",
      "Frame 6 at time t = 0.6\n",
      "    Reading  Frame 7 at t = 0.7  from outdir = /home/ajivani/AdvectionWL/_output\n",
      "Frame 7 at time t = 0.7\n",
      "    Reading  Frame 8 at t = 0.8  from outdir = /home/ajivani/AdvectionWL/_output\n",
      "Frame 8 at time t = 0.8\n",
      "    Reading  Frame 9 at t = 0.9  from outdir = /home/ajivani/AdvectionWL/_output\n",
      "Frame 9 at time t = 0.9\n",
      "    Reading  Frame 10 at t = 1  from outdir = /home/ajivani/AdvectionWL/_output\n",
      "Frame 10 at time t = 1.0\n",
      "\n",
      "-----------------------------------\n",
      "\n",
      "Creating latex file...\n",
      "Directory '/home/ajivani/AdvectionWL/_plots' \n",
      "    already exists, files may be overwritten \n",
      "\n",
      "Latex file created:  \n",
      "  /home/ajivani/AdvectionWL/_plots/plots.tex\n",
      "\n",
      "Use pdflatex to create pdf file\n",
      "2024-05-23 00:31:36,246 INFO CLAW: Animation.save using <class 'matplotlib.animation.HTMLWriter'>\n",
      "Created movie_fig1.html\n",
      "\n",
      "--------------------------------------------------------\n",
      "\n",
      "Point your browser to:\n",
      "    file:///home/ajivani/AdvectionWL/_plots/_PlotIndex.html\n"
     ]
    }
   ],
   "source": [
    "main()"
   ]
  },
  {
   "cell_type": "code",
   "execution_count": null,
   "id": "07785d0d",
   "metadata": {},
   "outputs": [],
   "source": []
  }
 ],
 "metadata": {
  "kernelspec": {
   "display_name": "Python 3 (ipykernel)",
   "language": "python",
   "name": "python3"
  },
  "language_info": {
   "codemirror_mode": {
    "name": "ipython",
    "version": 3
   },
   "file_extension": ".py",
   "mimetype": "text/x-python",
   "name": "python",
   "nbconvert_exporter": "python",
   "pygments_lexer": "ipython3",
   "version": "3.10.14"
  }
 },
 "nbformat": 4,
 "nbformat_minor": 5
}
