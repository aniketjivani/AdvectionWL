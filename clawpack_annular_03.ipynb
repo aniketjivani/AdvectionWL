{
 "cells": [
  {
   "cell_type": "markdown",
   "id": "2c066e28",
   "metadata": {},
   "source": [
    "Run `clawpack_wl` and save the figures."
   ]
  },
  {
   "cell_type": "code",
   "execution_count": 8,
   "id": "929f6692",
   "metadata": {},
   "outputs": [],
   "source": [
    "import clawpack_wl as cpa"
   ]
  },
  {
   "cell_type": "code",
   "execution_count": 9,
   "id": "8c4a4501",
   "metadata": {},
   "outputs": [],
   "source": [
    "from clawpack import riemann\n",
    "\n",
    "import matplotlib.pyplot as plt\n",
    "\n",
    "# %matplotlib notebook\n",
    "\n",
    "\n",
    "\n",
    "from clawpack import pyclaw\n",
    "from clawpack.pyclaw.examples.advection_2d_annulus.mapc2p import mapc2p\n",
    "\n",
    "import numpy as np\n",
    "# from clawpack.visclaw import colormaps\n",
    "\n",
    "import re"
   ]
  },
  {
   "cell_type": "markdown",
   "id": "ce9fae42",
   "metadata": {},
   "source": [
    "Use parts of `run_app_from_main` below (https://github.com/clawpack/pyclaw/blob/151aefa92a613d952f3b49070cd80826a81b1178/src/pyclaw/util.py#L83)"
   ]
  },
  {
   "cell_type": "code",
   "execution_count": 10,
   "id": "7c2a4cd0",
   "metadata": {},
   "outputs": [
    {
     "name": "stdout",
     "output_type": "stream",
     "text": [
      "The autoreload extension is already loaded. To reload it, use:\n",
      "  %reload_ext autoreload\n"
     ]
    }
   ],
   "source": [
    "%matplotlib inline\n",
    "%load_ext autoreload\n",
    "%autoreload 2"
   ]
  },
  {
   "cell_type": "code",
   "execution_count": 11,
   "id": "8d07e449",
   "metadata": {},
   "outputs": [],
   "source": [
    "# these are usually passed to setup function.\n",
    "pyclaw_kwargs = {'use_petsc':False,\n",
    "                'outdir':'./_output',\n",
    "                'solver_type':'classic'}"
   ]
  },
  {
   "cell_type": "code",
   "execution_count": 12,
   "id": "b5a0c11a",
   "metadata": {},
   "outputs": [
    {
     "name": "stdout",
     "output_type": "stream",
     "text": [
      "2024-05-28 21:41:32,933 INFO CLAW: Solution 0 computed for time t=0.000000\n",
      "2024-05-28 21:41:33,323 INFO CLAW: Solution 1 computed for time t=0.500000\n",
      "2024-05-28 21:41:33,703 INFO CLAW: Solution 2 computed for time t=1.000000\n",
      "2024-05-28 21:41:34,190 INFO CLAW: Solution 3 computed for time t=1.500000\n",
      "2024-05-28 21:41:34,521 INFO CLAW: Solution 4 computed for time t=2.000000\n",
      "2024-05-28 21:41:34,825 INFO CLAW: Solution 5 computed for time t=2.500000\n",
      "2024-05-28 21:41:35,126 INFO CLAW: Solution 6 computed for time t=3.000000\n",
      "2024-05-28 21:41:35,442 INFO CLAW: Solution 7 computed for time t=3.500000\n",
      "2024-05-28 21:41:35,740 INFO CLAW: Solution 8 computed for time t=4.000000\n",
      "2024-05-28 21:41:36,049 INFO CLAW: Solution 9 computed for time t=4.500000\n",
      "2024-05-28 21:41:36,346 INFO CLAW: Solution 10 computed for time t=5.000000\n"
     ]
    },
    {
     "data": {
      "text/plain": [
       "{'cflmax': 0.4000000000000001,\n",
       " 'dtmin': 0.013027229415318062,\n",
       " 'dtmax': 0.013027229415318066,\n",
       " 'numsteps': 390}"
      ]
     },
     "execution_count": 12,
     "metadata": {},
     "output_type": "execute_result"
    }
   ],
   "source": [
    "clawSolution = cpa.setup()\n",
    "\n",
    "status = clawSolution.run()\n",
    "status"
   ]
  },
  {
   "cell_type": "code",
   "execution_count": 13,
   "id": "1d3e0d91",
   "metadata": {},
   "outputs": [
    {
     "data": {
      "text/plain": [
       "('./_output', False, False)"
      ]
     },
     "execution_count": 13,
     "metadata": {},
     "output_type": "execute_result"
    }
   ],
   "source": [
    "outdir = pyclaw_kwargs.get('outdir','./_output')\n",
    "htmlplot = pyclaw_kwargs.get('htmlplot',False) # return False if key doesn't exist\n",
    "iplot    = pyclaw_kwargs.get('iplot',False)\n",
    "outdir, htmlplot, iplot"
   ]
  },
  {
   "cell_type": "code",
   "execution_count": 14,
   "id": "8754bc00",
   "metadata": {},
   "outputs": [
    {
     "name": "stdout",
     "output_type": "stream",
     "text": [
      "Executed setplot successfully\n",
      "Will plot 11 frames numbered: [0, 1, 2, 3, 4, 5, 6, 7, 8, 9, 10]\n",
      "Will make 1 figure(s) for each frame, numbered:  [1]\n",
      "\n",
      "-----------------------------------\n",
      "\n",
      "\n",
      "Creating html pages for figures...\n",
      "\n",
      "Directory '/home/ajivani/AdvectionWL/_plots' \n",
      "    already exists, files may be overwritten \n",
      "Now making png files for all figures...\n",
      "    Reading  Frame 0 at t = 0  from outdir = /home/ajivani/AdvectionWL/_output\n",
      "Frame 0 at time t = 0.0\n",
      "    Reading  Frame 1 at t = 0.5  from outdir = /home/ajivani/AdvectionWL/_output\n",
      "Frame 1 at time t = 0.5\n",
      "    Reading  Frame 2 at t = 1  from outdir = /home/ajivani/AdvectionWL/_output\n",
      "Frame 2 at time t = 1.0\n",
      "    Reading  Frame 3 at t = 1.5  from outdir = /home/ajivani/AdvectionWL/_output\n",
      "Frame 3 at time t = 1.5\n",
      "    Reading  Frame 4 at t = 2  from outdir = /home/ajivani/AdvectionWL/_output\n",
      "Frame 4 at time t = 2.0\n",
      "    Reading  Frame 5 at t = 2.5  from outdir = /home/ajivani/AdvectionWL/_output\n",
      "Frame 5 at time t = 2.5\n",
      "    Reading  Frame 6 at t = 3  from outdir = /home/ajivani/AdvectionWL/_output\n",
      "Frame 6 at time t = 3.0\n",
      "    Reading  Frame 7 at t = 3.5  from outdir = /home/ajivani/AdvectionWL/_output\n",
      "Frame 7 at time t = 3.5\n",
      "    Reading  Frame 8 at t = 4  from outdir = /home/ajivani/AdvectionWL/_output\n",
      "Frame 8 at time t = 4.0\n",
      "    Reading  Frame 9 at t = 4.5  from outdir = /home/ajivani/AdvectionWL/_output\n",
      "Frame 9 at time t = 4.5\n",
      "    Reading  Frame 10 at t = 5  from outdir = /home/ajivani/AdvectionWL/_output\n",
      "Frame 10 at time t = 5.0\n",
      "\n",
      "-----------------------------------\n",
      "\n",
      "Creating latex file...\n",
      "Directory '/home/ajivani/AdvectionWL/_plots' \n",
      "    already exists, files may be overwritten \n",
      "\n",
      "Latex file created:  \n",
      "  /home/ajivani/AdvectionWL/_plots/plots.tex\n",
      "\n",
      "Use pdflatex to create pdf file\n",
      "2024-05-28 21:41:39,698 INFO CLAW: Animation.save using <class 'matplotlib.animation.HTMLWriter'>\n",
      "Created movie_fig1.html\n",
      "\n",
      "--------------------------------------------------------\n",
      "\n",
      "Point your browser to:\n",
      "    file:///home/ajivani/AdvectionWL/_plots/_PlotIndex.html\n"
     ]
    }
   ],
   "source": [
    "pyclaw.plot.html_plot(outdir=outdir,setplot=cpa.setplot)"
   ]
  },
  {
   "cell_type": "code",
   "execution_count": null,
   "id": "0b14327b",
   "metadata": {},
   "outputs": [],
   "source": [
    "r_lower = 3.903302085636277\n",
    "r_upper = 23.465031329617336\n",
    "m_r = 126\n",
    "\n",
    "theta_lower = 0.0\n",
    "theta_upper = np.pi*2.0\n",
    "m_theta = 512\n",
    "\n",
    "r     = pyclaw.Dimension(r_lower,r_upper,m_r,name='r')\n",
    "theta = pyclaw.Dimension(theta_lower,theta_upper,m_theta,name='theta')\n",
    "domain = pyclaw.Domain([r,theta])\n",
    "domain.grid.mapc2p = cpa.mapc2p_annulus\n",
    "#     domain.grid.num_ghost = solver.num_ghost\n",
    "domain.grid.num_ghost = 2"
   ]
  },
  {
   "cell_type": "code",
   "execution_count": null,
   "id": "19c240d6",
   "metadata": {},
   "outputs": [],
   "source": [
    "R_nodes,Theta_nodes = domain.grid.p_nodes_with_ghost(num_ghost=2)"
   ]
  },
  {
   "cell_type": "code",
   "execution_count": null,
   "id": "865e7f6f",
   "metadata": {},
   "outputs": [],
   "source": [
    "mx = R_nodes.shape[0]-1\n",
    "my = R_nodes.shape[1]-1\n",
    "mx, my"
   ]
  },
  {
   "cell_type": "code",
   "execution_count": null,
   "id": "6ab11dd2",
   "metadata": {},
   "outputs": [],
   "source": [
    "R_nodes.shape"
   ]
  },
  {
   "cell_type": "code",
   "execution_count": null,
   "id": "36ca7a0f",
   "metadata": {},
   "outputs": [],
   "source": [
    "R_nodes.min(), R_nodes.max()"
   ]
  },
  {
   "cell_type": "code",
   "execution_count": null,
   "id": "8397cb4d",
   "metadata": {},
   "outputs": [],
   "source": [
    "# Bottom-left corners\n",
    "Xp0 = R_nodes[:mx,:my]\n",
    "Yp0 = Theta_nodes[:mx,:my]\n",
    "\n",
    "# Top-left corners\n",
    "Xp1 = R_nodes[:mx,1:]\n",
    "Yp1 = Theta_nodes[:mx,1:]\n",
    "\n",
    "# Top-right corners\n",
    "Xp2 = R_nodes[1:,1:]\n",
    "Yp2 = Theta_nodes[1:,1:]\n",
    "\n",
    "# Top-left corners\n",
    "Xp3 = R_nodes[1:,:my]\n",
    "Yp3 = Theta_nodes[1:,:my]"
   ]
  },
  {
   "cell_type": "code",
   "execution_count": null,
   "id": "db286788",
   "metadata": {},
   "outputs": [],
   "source": [
    "Xp0, Xp1"
   ]
  },
  {
   "cell_type": "code",
   "execution_count": null,
   "id": "c6ca717d",
   "metadata": {},
   "outputs": [],
   "source": [
    "Xp2, Xp3"
   ]
  },
  {
   "cell_type": "code",
   "execution_count": null,
   "id": "ba1587fe",
   "metadata": {},
   "outputs": [],
   "source": [
    "Xp0.shape"
   ]
  },
  {
   "cell_type": "code",
   "execution_count": null,
   "id": "14d35f30",
   "metadata": {},
   "outputs": [],
   "source": [
    "dx, dy = domain.grid.delta\n",
    "dx, dy"
   ]
  },
  {
   "cell_type": "code",
   "execution_count": null,
   "id": "5515a281",
   "metadata": {},
   "outputs": [],
   "source": [
    "def stream_constant(Xp,Yp):\n",
    "    \"\"\" \n",
    "    Calculates the stream function in physical space\n",
    "    \"\"\"\n",
    "    return np.pi*(Xp*Yp)"
   ]
  },
  {
   "cell_type": "code",
   "execution_count": null,
   "id": "f8377c90",
   "metadata": {},
   "outputs": [],
   "source": [
    "# Compute velocity component\n",
    "aux = np.empty((2,mx,my), order='F')\n",
    "\n",
    "aux[0,:mx,:my] = (stream_constant(Xp1,Yp1)- stream_constant(Xp0,Yp0))/dy\n",
    "aux[1,:mx,:my] = -(stream_constant(Xp3,Yp3)- stream_constant(Xp0, Yp0))/dx"
   ]
  },
  {
   "cell_type": "code",
   "execution_count": null,
   "id": "8aeee9d3",
   "metadata": {},
   "outputs": [],
   "source": [
    "print(aux[0, :, :].min(), aux[0, :, :].max())\n",
    "print(aux[1, :, :].min(), aux[1, :, :].max())"
   ]
  },
  {
   "cell_type": "code",
   "execution_count": null,
   "id": "5848de1d",
   "metadata": {},
   "outputs": [],
   "source": [
    "uux = 1.5 * Xp0\n",
    "uuy = -1.5 * Yp0"
   ]
  },
  {
   "cell_type": "code",
   "execution_count": null,
   "id": "e35b16d8",
   "metadata": {},
   "outputs": [],
   "source": [
    "R_nodes.shape"
   ]
  },
  {
   "cell_type": "code",
   "execution_count": null,
   "id": "a91e9593",
   "metadata": {},
   "outputs": [],
   "source": [
    "fig, ax = plt.subplots()\n",
    "# levels = np.linspace(data.min(), data.max(), 20)  # Adjust the number of levels as needed\n",
    "# contour = ax.pcolormesh(xxx, yyy, data, shading='auto')\n",
    "contour = ax.pcolormesh(R_nodes[:mx,:my], Theta_nodes[:mx, :my], np.sqrt(aux[1, :, :]**2 + aux[0, :, :]**2), \n",
    "                        shading='auto')\n",
    "fig.colorbar(contour)\n",
    "ax.set_aspect('equal')  # Ensure equal aspect ratio for circles\n",
    "ax.set_title('Data on Cartesian Grid')\n",
    "fig"
   ]
  },
  {
   "cell_type": "code",
   "execution_count": null,
   "id": "6b494e69",
   "metadata": {},
   "outputs": [],
   "source": [
    "fig, ax = plt.subplots()\n",
    "# levels = np.linspace(data.min(), data.max(), 20)  # Adjust the number of levels as needed\n",
    "# contour = ax.pcolormesh(xxx, yyy, data, shading='auto')\n",
    "contour = ax.pcolormesh(R_nodes[:mx,:my], Theta_nodes[:mx, :my], np.sqrt(uux**2 + uuy**2), \n",
    "                        shading='auto')\n",
    "fig.colorbar(contour)\n",
    "ax.set_aspect('equal')  # Ensure equal aspect ratio for circles\n",
    "ax.set_title('Data on Cartesian Grid')\n",
    "fig"
   ]
  },
  {
   "cell_type": "code",
   "execution_count": null,
   "id": "f9f3cca4",
   "metadata": {},
   "outputs": [],
   "source": [
    "plt.scatter(Xp0[1:50, 1:50], Yp0[1:50, 1:50], c='r')\n",
    "plt.scatter(Xp1[1:50, 1:50], Yp1[1:50, 1:50], c='b')"
   ]
  },
  {
   "cell_type": "code",
   "execution_count": null,
   "id": "ba28345d",
   "metadata": {},
   "outputs": [],
   "source": [
    "plt.scatter(Xp2[1:50, 1:50], Yp2[1:50, 1:50], c='r')\n",
    "plt.scatter(Xp3[1:50, 1:50], Yp3[1:50, 1:50], c='b')"
   ]
  },
  {
   "cell_type": "code",
   "execution_count": null,
   "id": "45f467bc",
   "metadata": {},
   "outputs": [],
   "source": [
    "plt.scatter(Xp3[1:50, 1:50] - Xp0[1:50, 1:50], Yp3[1:50, 1:50] - Yp0[1:50, 1:50], c='b')\n",
    "plt.scatter(Xp1[1:50, 1:50] - Xp2[1:50, 1:50], Yp1[1:50, 1:50] - Yp2[1:50, 1:50], c='r')"
   ]
  },
  {
   "cell_type": "code",
   "execution_count": null,
   "id": "37b4e2ae",
   "metadata": {},
   "outputs": [],
   "source": [
    "plt.scatter(Xp3[1:50, 1:50] - Xp2[1:50, 1:50], Yp3[1:50, 1:50] - Yp2[1:50, 1:50], c='b')\n",
    "plt.scatter(Xp1[1:50, 1:50] - Xp0[1:50, 1:50], Yp1[1:50, 1:50] - Yp0[1:50, 1:50], c='r')"
   ]
  },
  {
   "cell_type": "code",
   "execution_count": null,
   "id": "30854122",
   "metadata": {},
   "outputs": [],
   "source": [
    "# domain.grid.p_nodes_with_ghost(2)[0].min(), domain.grid.p_nodes_with_ghost(2)[0].max()\n",
    "# domain.grid.p_nodes_with_ghost(2)[1].min(), domain.grid.p_nodes_with_ghost(2)[1].max()"
   ]
  },
  {
   "cell_type": "code",
   "execution_count": null,
   "id": "a1389ed8",
   "metadata": {},
   "outputs": [],
   "source": [
    "# domain.grid.p_nodes_with_ghost(2)[0].min(), domain.grid.p_nodes_with_ghost(2)[0].max()\n",
    "# domain.grid.c_nodes_with_ghost(2)[1].min(), domain.grid.c_nodes_with_ghost(2)[1].max()"
   ]
  },
  {
   "cell_type": "code",
   "execution_count": null,
   "id": "50b36c3a",
   "metadata": {},
   "outputs": [],
   "source": [
    "# pyclaw.BC.extrap"
   ]
  },
  {
   "cell_type": "code",
   "execution_count": null,
   "id": "f3ccc764",
   "metadata": {},
   "outputs": [],
   "source": []
  }
 ],
 "metadata": {
  "kernelspec": {
   "display_name": "Python 3 (ipykernel)",
   "language": "python",
   "name": "python3"
  },
  "language_info": {
   "codemirror_mode": {
    "name": "ipython",
    "version": 3
   },
   "file_extension": ".py",
   "mimetype": "text/x-python",
   "name": "python",
   "nbconvert_exporter": "python",
   "pygments_lexer": "ipython3",
   "version": "3.10.14"
  }
 },
 "nbformat": 4,
 "nbformat_minor": 5
}
