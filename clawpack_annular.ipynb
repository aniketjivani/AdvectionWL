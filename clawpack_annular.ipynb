{
 "cells": [
  {
   "cell_type": "code",
   "execution_count": 4,
   "id": "76f2eaf4",
   "metadata": {},
   "outputs": [],
   "source": [
    "import clawpack_annular as cpa"
   ]
  },
  {
   "cell_type": "code",
   "execution_count": 5,
   "id": "a32451b2",
   "metadata": {},
   "outputs": [
    {
     "name": "stdout",
     "output_type": "stream",
     "text": [
      "The autoreload extension is already loaded. To reload it, use:\n",
      "  %reload_ext autoreload\n"
     ]
    }
   ],
   "source": [
    "%load_ext autoreload\n",
    "%autoreload 2"
   ]
  },
  {
   "cell_type": "code",
   "execution_count": 18,
   "id": "67a82516",
   "metadata": {},
   "outputs": [],
   "source": [
    "from clawpack import pyclaw\n",
    "from clawpack.pyclaw.examples.advection_2d_annulus.mapc2p import mapc2p\n",
    "\n",
    "import numpy as np\n",
    "from clawpack.visclaw import colormaps"
   ]
  },
  {
   "cell_type": "markdown",
   "id": "4f6b5767",
   "metadata": {},
   "source": [
    "Use parts of `run_app_from_main` below (https://github.com/clawpack/pyclaw/blob/151aefa92a613d952f3b49070cd80826a81b1178/src/pyclaw/util.py#L83)"
   ]
  },
  {
   "cell_type": "code",
   "execution_count": 12,
   "id": "07255ad2",
   "metadata": {},
   "outputs": [],
   "source": [
    "# these are usually passed to setup function.\n",
    "pyclaw_kwargs = {'use_petsc':False,\n",
    "                'outdir':'./_output',\n",
    "                'solver_type':'classic'}"
   ]
  },
  {
   "cell_type": "code",
   "execution_count": 9,
   "id": "25dd9723",
   "metadata": {},
   "outputs": [
    {
     "name": "stdout",
     "output_type": "stream",
     "text": [
      "2024-05-22 23:21:01,339 INFO CLAW: Solution 0 computed for time t=0.000000\n",
      "2024-05-22 23:21:01,391 INFO CLAW: Solution 1 computed for time t=0.100000\n",
      "2024-05-22 23:21:01,431 INFO CLAW: Solution 2 computed for time t=0.200000\n",
      "2024-05-22 23:21:01,471 INFO CLAW: Solution 3 computed for time t=0.300000\n",
      "2024-05-22 23:21:01,511 INFO CLAW: Solution 4 computed for time t=0.400000\n",
      "2024-05-22 23:21:01,552 INFO CLAW: Solution 5 computed for time t=0.500000\n",
      "2024-05-22 23:21:01,593 INFO CLAW: Solution 6 computed for time t=0.600000\n",
      "2024-05-22 23:21:01,633 INFO CLAW: Solution 7 computed for time t=0.700000\n",
      "2024-05-22 23:21:01,673 INFO CLAW: Solution 8 computed for time t=0.800000\n",
      "2024-05-22 23:21:01,713 INFO CLAW: Solution 9 computed for time t=0.900000\n",
      "2024-05-22 23:21:01,753 INFO CLAW: Solution 10 computed for time t=1.000000\n"
     ]
    },
    {
     "data": {
      "text/plain": [
       "{'cflmax': 0.4000000000000001,\n",
       " 'dtmin': 0.0033318104550021824,\n",
       " 'dtmax': 0.0033318104550021832,\n",
       " 'numsteps': 310}"
      ]
     },
     "execution_count": 9,
     "metadata": {},
     "output_type": "execute_result"
    }
   ],
   "source": [
    "clawSolution = cpa.setup()\n",
    "\n",
    "status = clawSolution.run()\n",
    "status"
   ]
  },
  {
   "cell_type": "code",
   "execution_count": 15,
   "id": "27295345",
   "metadata": {},
   "outputs": [
    {
     "data": {
      "text/plain": [
       "('./_output', False, False)"
      ]
     },
     "execution_count": 15,
     "metadata": {},
     "output_type": "execute_result"
    }
   ],
   "source": [
    "outdir = pyclaw_kwargs.get('outdir','./_output')\n",
    "htmlplot = pyclaw_kwargs.get('htmlplot',False) # return False if key doesn't exist\n",
    "iplot    = pyclaw_kwargs.get('iplot',False)\n",
    "outdir, htmlplot, iplot"
   ]
  },
  {
   "cell_type": "code",
   "execution_count": 19,
   "id": "f1d497c2",
   "metadata": {},
   "outputs": [
    {
     "name": "stderr",
     "output_type": "stream",
     "text": [
      "/home/ajivani/clawpack_src/clawpack/visclaw/src/python/visclaw/plotpages.py:605: SyntaxWarning: \"is\" with a literal. Did you mean \"==\"?\n",
      "  if plotdata.format is 'forestclaw':\n",
      "/home/ajivani/clawpack_src/clawpack/visclaw/src/python/visclaw/plotpages.py:1809: SyntaxWarning: \"is\" with a literal. Did you mean \"==\"?\n",
      "  if prefix is 'fort':\n"
     ]
    },
    {
     "name": "stdout",
     "output_type": "stream",
     "text": [
      "Executed setplot successfully\n",
      "Will plot 11 frames numbered: [0, 1, 2, 3, 4, 5, 6, 7, 8, 9, 10]\n",
      "Will make 2 figure(s) for each frame, numbered:  [0, 1]\n",
      "\n",
      "-----------------------------------\n",
      "\n",
      "\n",
      "Creating html pages for figures...\n",
      "\n",
      "Directory '/home/ajivani/AdvectionWL/_plots' \n",
      "    already exists, files may be overwritten \n",
      "Now making png files for all figures...\n",
      "    Reading  Frame 0 at t = 0  from outdir = /home/ajivani/AdvectionWL/_output\n",
      "Frame 0 at time t = 0.0\n",
      "    Reading  Frame 1 at t = 0.1  from outdir = /home/ajivani/AdvectionWL/_output\n",
      "Frame 1 at time t = 0.1\n",
      "    Reading  Frame 2 at t = 0.2  from outdir = /home/ajivani/AdvectionWL/_output\n",
      "Frame 2 at time t = 0.2\n",
      "    Reading  Frame 3 at t = 0.3  from outdir = /home/ajivani/AdvectionWL/_output\n",
      "Frame 3 at time t = 0.3\n",
      "    Reading  Frame 4 at t = 0.4  from outdir = /home/ajivani/AdvectionWL/_output\n",
      "Frame 4 at time t = 0.4\n",
      "    Reading  Frame 5 at t = 0.5  from outdir = /home/ajivani/AdvectionWL/_output\n",
      "Frame 5 at time t = 0.5\n",
      "    Reading  Frame 6 at t = 0.6  from outdir = /home/ajivani/AdvectionWL/_output\n",
      "Frame 6 at time t = 0.6\n",
      "    Reading  Frame 7 at t = 0.7  from outdir = /home/ajivani/AdvectionWL/_output\n",
      "Frame 7 at time t = 0.7\n",
      "    Reading  Frame 8 at t = 0.8  from outdir = /home/ajivani/AdvectionWL/_output\n",
      "Frame 8 at time t = 0.8\n",
      "    Reading  Frame 9 at t = 0.9  from outdir = /home/ajivani/AdvectionWL/_output\n",
      "Frame 9 at time t = 0.9\n",
      "    Reading  Frame 10 at t = 1  from outdir = /home/ajivani/AdvectionWL/_output\n",
      "Frame 10 at time t = 1.0\n",
      "\n",
      "-----------------------------------\n",
      "\n",
      "Creating latex file...\n",
      "Directory '/home/ajivani/AdvectionWL/_plots' \n",
      "    already exists, files may be overwritten \n",
      "\n",
      "Latex file created:  \n",
      "  /home/ajivani/AdvectionWL/_plots/plots.tex\n",
      "\n",
      "Use pdflatex to create pdf file\n",
      "2024-05-22 23:37:21,374 INFO CLAW: Animation.save using <class 'matplotlib.animation.HTMLWriter'>\n",
      "Created movie_fig0.html\n",
      "2024-05-22 23:37:22,289 INFO CLAW: Animation.save using <class 'matplotlib.animation.HTMLWriter'>\n",
      "Created movie_fig1.html\n",
      "\n",
      "--------------------------------------------------------\n",
      "\n",
      "Point your browser to:\n",
      "    file:///home/ajivani/AdvectionWL/_plots/_PlotIndex.html\n"
     ]
    }
   ],
   "source": [
    "pyclaw.plot.html_plot(outdir=outdir,setplot=cpa.setplot)"
   ]
  },
  {
   "cell_type": "code",
   "execution_count": null,
   "id": "de2bbec0",
   "metadata": {},
   "outputs": [],
   "source": []
  }
 ],
 "metadata": {
  "kernelspec": {
   "display_name": "Python 3 (ipykernel)",
   "language": "python",
   "name": "python3"
  },
  "language_info": {
   "codemirror_mode": {
    "name": "ipython",
    "version": 3
   },
   "file_extension": ".py",
   "mimetype": "text/x-python",
   "name": "python",
   "nbconvert_exporter": "python",
   "pygments_lexer": "ipython3",
   "version": "3.10.14"
  }
 },
 "nbformat": 4,
 "nbformat_minor": 5
}
